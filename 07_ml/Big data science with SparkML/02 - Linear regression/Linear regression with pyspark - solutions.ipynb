{
 "cells": [
  {
   "cell_type": "markdown",
   "metadata": {},
   "source": [
    "# Linear regression with PySpark - solutions"
   ]
  },
  {
   "cell_type": "code",
   "execution_count": 2,
   "metadata": {
    "collapsed": true
   },
   "outputs": [],
   "source": [
    "from pyspark.ml.feature import VectorAssembler, StringIndexer, OneHotEncoder\n",
    "from pyspark.ml.regression import LinearRegression\n",
    "from pyspark.ml.evaluation import RegressionEvaluator"
   ]
  },
  {
   "cell_type": "markdown",
   "metadata": {},
   "source": [
    "## Your turn 1"
   ]
  },
  {
   "cell_type": "code",
   "execution_count": 4,
   "metadata": {
    "collapsed": true
   },
   "outputs": [],
   "source": [
    "grades = spark.read.csv(\"/FileStore/tables/m7yuthhq1490310580121/grades.txt\", \n",
    "                        sep=' ', header=True, inferSchema=True).drop('id')\n",
    "grades.show(5)"
   ]
  },
  {
   "cell_type": "markdown",
   "metadata": {},
   "source": [
    "### Part I"
   ]
  },
  {
   "cell_type": "code",
   "execution_count": 6,
   "metadata": {
    "collapsed": true
   },
   "outputs": [],
   "source": [
    "for subject in ['Math', 'English', 'Literature']:\n",
    "    # Preparing the data\n",
    "    grades2 = VectorAssembler(inputCols=[subject],\n",
    "                              outputCol='features')\\\n",
    "                    .transform(grades)\n",
    "        \n",
    "    # Instantiating the estimator\n",
    "    SAT_lr = LinearRegression(featuresCol='features',\n",
    "                              labelCol='SAT', \n",
    "                              predictionCol='predicted SAT')\n",
    "    \n",
    "    # Fitting the model and using it for prediction\n",
    "    grades2 = SAT_lr.fit(grades2).transform(grades2)\n",
    "    \n",
    "    # Evaluating the model\n",
    "    rmse = RegressionEvaluator(predictionCol='predicted SAT', \n",
    "                               labelCol='SAT', \n",
    "                               metricName='rmse').evaluate(grades2) \n",
    "    \n",
    "    print \"The RMSE of a model based on the {:^10} grade alone is {:.2f}\"\\\n",
    "        .format(subject, rmse)"
   ]
  },
  {
   "cell_type": "markdown",
   "metadata": {},
   "source": [
    "### Part II"
   ]
  },
  {
   "cell_type": "code",
   "execution_count": 8,
   "metadata": {
    "collapsed": true
   },
   "outputs": [],
   "source": [
    "# Preparing the data\n",
    "grades2 = VectorAssembler(inputCols=['Math', 'English', 'Literature'],\n",
    "                          outputCol='features')\\\n",
    "                .transform(grades)\n",
    "\n",
    "# Instantiating the estimator\n",
    "SAT_lr = LinearRegression(featuresCol='features',\n",
    "                          labelCol='SAT', \n",
    "                          predictionCol='predicted SAT')\n",
    "\n",
    "# Fitting the model and using it for prediction\n",
    "grades2 = SAT_lr.fit(grades2).transform(grades2)\n",
    "\n",
    "# Evaluating the model\n",
    "rmse = RegressionEvaluator(predictionCol='predicted SAT', \n",
    "                           labelCol='SAT', \n",
    "                           metricName='rmse')\\\n",
    "            .evaluate(grades2) \n",
    "\n",
    "print \"The RMSE of a model based on all the grades is {:.2f}\"\\\n",
    "    .format(rmse)"
   ]
  },
  {
   "cell_type": "markdown",
   "metadata": {},
   "source": [
    "## Your turn 2"
   ]
  },
  {
   "cell_type": "code",
   "execution_count": 10,
   "metadata": {
    "collapsed": true
   },
   "outputs": [],
   "source": [
    "prices = spark.read.csv(\"/FileStore/tables/7frd8efu1490310817439/prices.csv\", \n",
    "                        header=True, inferSchema=True, quote='\"')\n",
    "\n",
    "prices = prices.withColumnRenamed('Air.conditioner', 'AC')\n",
    "\n",
    "prices.show(5)"
   ]
  },
  {
   "cell_type": "markdown",
   "metadata": {},
   "source": [
    "We transform all the features except _Rooms_."
   ]
  },
  {
   "cell_type": "code",
   "execution_count": 12,
   "metadata": {
    "collapsed": true
   },
   "outputs": [],
   "source": [
    "for feature in ['City', 'Balcony', 'Parking', 'AC']:\n",
    "    si = StringIndexer(inputCol=feature, outputCol=feature+'_ix')\n",
    "    prices = si.fit(prices).transform(prices)\n",
    "    ohe = OneHotEncoder(inputCol=feature+'_ix', outputCol=feature+'_ohe')\n",
    "    prices = ohe.transform(prices)\n",
    "prices.show(5)"
   ]
  },
  {
   "cell_type": "markdown",
   "metadata": {},
   "source": [
    "### Part I"
   ]
  },
  {
   "cell_type": "code",
   "execution_count": 14,
   "metadata": {
    "collapsed": true
   },
   "outputs": [],
   "source": [
    "# Preparing the data\n",
    "va = VectorAssembler(inputCols=['City_ohe', 'Balcony_ohe', 'Parking_ohe', 'AC_ohe', 'Rooms'],\n",
    "                     outputCol='features')\n",
    "prices_int_rooms = va.transform(prices)\n",
    "\n",
    "# Instantiating the estimator\n",
    "prices_lr = LinearRegression(featuresCol='features',\n",
    "                             labelCol='Price', \n",
    "                             predictionCol='predicted Price')\n",
    "\n",
    "# Fitting the model and using it for prediction\n",
    "prices_int_rooms = prices_lr.fit(prices_int_rooms).transform(prices_int_rooms)\n",
    "\n",
    "# Evaluating the model\n",
    "rmse = RegressionEvaluator(predictionCol='predicted Price', \n",
    "                           labelCol='Price', \n",
    "                           metricName='rmse')\\\n",
    "            .evaluate(prices_int_rooms) \n",
    "\n",
    "print \"The RMSE of a model based on all the grades alone is {:.2f}\"\\\n",
    "    .format(rmse)"
   ]
  },
  {
   "cell_type": "markdown",
   "metadata": {},
   "source": [
    "### Part II"
   ]
  },
  {
   "cell_type": "code",
   "execution_count": 16,
   "metadata": {
    "collapsed": true
   },
   "outputs": [],
   "source": [
    "si = StringIndexer(inputCol='Rooms', outputCol='Rooms_ix')\n",
    "prices_cat_rooms = si.fit(prices).transform(prices)\n",
    "\n",
    "ohe = OneHotEncoder(inputCol='Rooms_ix', outputCol='Rooms_ohe')\n",
    "prices_cat_rooms = ohe.transform(prices_cat_rooms)\n",
    "\n",
    "prices_cat_rooms.show(5)"
   ]
  },
  {
   "cell_type": "code",
   "execution_count": 17,
   "metadata": {
    "collapsed": true
   },
   "outputs": [],
   "source": [
    "# Preparing the data\n",
    "va = VectorAssembler(inputCols=['City_ohe', 'Balcony_ohe', 'Parking_ohe', 'AC_ohe', 'Rooms_ohe'],\n",
    "                     outputCol='features')\n",
    "prices_cat_rooms = va.transform(prices_cat_rooms)\n",
    "\n",
    "# Instantiating the estimator\n",
    "prices_lr = LinearRegression(featuresCol='features',\n",
    "                             labelCol='Price', \n",
    "                             predictionCol='predicted Price')\n",
    "\n",
    "# Fitting the model and using it for prediction\n",
    "prices_cat_rooms = prices_lr.fit(prices_cat_rooms).transform(prices_cat_rooms)\n",
    "\n",
    "# Evaluating the model\n",
    "rmse = RegressionEvaluator(predictionCol='predicted Price', \n",
    "                           labelCol='Price', \n",
    "                           metricName='rmse')\\\n",
    "            .evaluate(prices_cat_rooms) \n",
    "\n",
    "print \"The RMSE of a model based on all the grades alone is {:.2f}\"\\\n",
    "    .format(rmse)"
   ]
  }
 ],
 "metadata": {
  "kernelspec": {
   "display_name": "Python [default]",
   "language": "python",
   "name": "python2"
  },
  "language_info": {
   "codemirror_mode": {
    "name": "ipython",
    "version": 2
   },
   "file_extension": ".py",
   "mimetype": "text/x-python",
   "name": "python",
   "nbconvert_exporter": "python",
   "pygments_lexer": "ipython2",
   "version": "2.7.11"
  },
  "name": "Linear regression with PySpark - solutions",
  "notebookId": 3948141445357934
 },
 "nbformat": 4,
 "nbformat_minor": 0
}
