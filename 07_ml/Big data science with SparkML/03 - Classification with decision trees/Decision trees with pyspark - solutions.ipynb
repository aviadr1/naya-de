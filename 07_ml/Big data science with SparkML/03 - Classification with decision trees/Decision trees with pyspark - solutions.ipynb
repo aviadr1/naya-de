{
 "cells": [
  {
   "cell_type": "markdown",
   "metadata": {},
   "source": [
    "# Decision trees with PySpark - solutions"
   ]
  },
  {
   "cell_type": "code",
   "execution_count": 2,
   "metadata": {
    "collapsed": true
   },
   "outputs": [],
   "source": [
    "from pyspark.ml.classification import DecisionTreeClassifier\n",
    "from pyspark.ml.feature import VectorAssembler, StringIndexer, OneHotEncoder\n",
    "from pyspark.ml.evaluation import MulticlassClassificationEvaluator"
   ]
  },
  {
   "cell_type": "markdown",
   "metadata": {},
   "source": [
    "## Your turn 1"
   ]
  },
  {
   "cell_type": "code",
   "execution_count": 4,
   "metadata": {
    "collapsed": true
   },
   "outputs": [],
   "source": [
    "weights = spark.read.csv(\"/FileStore/tables/sl5xl2bb1490305146134/weight.txt\",\n",
    "                         header=True, inferSchema=True)\n",
    "weights.show(5)"
   ]
  },
  {
   "cell_type": "markdown",
   "metadata": {},
   "source": [
    "### Part I"
   ]
  },
  {
   "cell_type": "code",
   "execution_count": 6,
   "metadata": {
    "collapsed": true
   },
   "outputs": [],
   "source": [
    "va = VectorAssembler(inputCols=['Height', 'Weight'],\n",
    "                     outputCol='features')\n",
    "weights = va.transform(weights)\n",
    "si = StringIndexer(inputCol='Sex',\n",
    "                   outputCol='Sex (indexed)')\n",
    "weights = si.fit(weights).transform(weights)\n",
    "weights.show(5)"
   ]
  },
  {
   "cell_type": "code",
   "execution_count": 7,
   "metadata": {
    "collapsed": true
   },
   "outputs": [],
   "source": [
    "dt = DecisionTreeClassifier(featuresCol='features',\n",
    "                            labelCol='Sex (indexed)',\n",
    "                            maxDepth=2)\n",
    "dt_model = dt.fit(weights)"
   ]
  },
  {
   "cell_type": "code",
   "execution_count": 8,
   "metadata": {
    "collapsed": true
   },
   "outputs": [],
   "source": [
    "weights2 = dt_model.transform(weights)\n",
    "print MulticlassClassificationEvaluator(predictionCol=\"prediction\",\n",
    "                                        labelCol=\"Sex (indexed)\",\n",
    "                                        metricName=\"accuracy\")\\\n",
    "        .evaluate(weights2)"
   ]
  },
  {
   "cell_type": "markdown",
   "metadata": {},
   "source": [
    "### Part II"
   ]
  },
  {
   "cell_type": "code",
   "execution_count": 10,
   "metadata": {
    "collapsed": true
   },
   "outputs": [],
   "source": [
    "va = VectorAssembler(inputCols=['features', 'Age'],\n",
    "                     outputCol='features2')\n",
    "weights = va.transform(weights)\n",
    "weights.show(5)"
   ]
  },
  {
   "cell_type": "markdown",
   "metadata": {},
   "source": [
    "If we allow _maxDepth=2_, then the importance of _Age_ is **0**, and even if we allow _maxDepth=10_, then the importance of _Age_ is only **0.0053**. This means that the age is not an important parameter for prediciting the age of the person."
   ]
  },
  {
   "cell_type": "code",
   "execution_count": 12,
   "metadata": {
    "collapsed": true
   },
   "outputs": [],
   "source": [
    "dt = DecisionTreeClassifier(featuresCol='features2',\n",
    "                            labelCol='Sex (indexed)',\n",
    "                            maxDepth=2)\n",
    "dt_model = dt.fit(weights)\n",
    "print dt_model.featureImportances"
   ]
  },
  {
   "cell_type": "code",
   "execution_count": 13,
   "metadata": {
    "collapsed": true
   },
   "outputs": [],
   "source": [
    "dt = DecisionTreeClassifier(featuresCol='features2',\n",
    "                            labelCol='Sex (indexed)',\n",
    "                            maxDepth=10)\n",
    "dt_model = dt.fit(weights)\n",
    "print dt_model.featureImportances"
   ]
  },
  {
   "cell_type": "markdown",
   "metadata": {},
   "source": [
    "## Your turn 2"
   ]
  },
  {
   "cell_type": "code",
   "execution_count": 15,
   "metadata": {
    "collapsed": true
   },
   "outputs": [],
   "source": [
    "dessert = spark.read.csv(\"/FileStore/tables/sdztx2671490282633198/dessert.csv\", \n",
    "                         header=True, inferSchema=True)\n",
    "\n",
    "dessert = dessert\\\n",
    "  .withColumnRenamed('day.of.week', 'weekday')\\\n",
    "  .withColumnRenamed('num.of.guests', 'num_of_guests')\\\n",
    "  .withColumn('purchase', dessert.dessert.astype('int'))\\\n",
    "  .drop('dessert')\n",
    "\n",
    "dessert.show(5)"
   ]
  },
  {
   "cell_type": "markdown",
   "metadata": {},
   "source": [
    "> **NOTE:** The Boolean column \"dessert\" had to be converted into a different data type, otherwise the decision tree could not understand it as the target column."
   ]
  },
  {
   "cell_type": "markdown",
   "metadata": {},
   "source": [
    "### Part I"
   ]
  },
  {
   "cell_type": "code",
   "execution_count": 18,
   "metadata": {
    "collapsed": true
   },
   "outputs": [],
   "source": [
    "si = StringIndexer(inputCol='purchase', \n",
    "                   outputCol='purchase (Index)')\n",
    "dessert = si.fit(dessert).transform(dessert)\n",
    "dessert.show(5)"
   ]
  },
  {
   "cell_type": "code",
   "execution_count": 19,
   "metadata": {
    "collapsed": true
   },
   "outputs": [],
   "source": [
    "for feature in ['weekday', 'hour']:\n",
    "    si = StringIndexer(inputCol=feature, outputCol=feature+'_ix')\n",
    "    dessert = si.fit(dessert).transform(dessert)\n",
    "    ohe = OneHotEncoder(inputCol=feature+'_ix', outputCol=feature+'_ohe')\n",
    "    dessert = ohe.transform(dessert)\n",
    "    \n",
    "va = VectorAssembler(inputCols=['weekday_ohe', 'hour_ohe', 'num_of_guests'], \n",
    "                     outputCol='features')\n",
    "dessert = va.transform(dessert)\n",
    "dessert.show(5)"
   ]
  },
  {
   "cell_type": "code",
   "execution_count": 20,
   "metadata": {
    "collapsed": true
   },
   "outputs": [],
   "source": [
    "dt = DecisionTreeClassifier(featuresCol='features',\n",
    "                            labelCol='purchase (Index)',\n",
    "                            maxDepth=5)\n",
    "dt_model = dt.fit(dessert)\n",
    "dessert = dt_model.transform(dessert)\n",
    "dessert.show(5)"
   ]
  },
  {
   "cell_type": "code",
   "execution_count": 21,
   "metadata": {
    "collapsed": true
   },
   "outputs": [],
   "source": [
    "print MulticlassClassificationEvaluator(predictionCol=\"prediction\",\n",
    "                                        labelCol=\"purchase (Index)\",\n",
    "                                        metricName=\"accuracy\")\\\n",
    "        .evaluate(dessert)"
   ]
  },
  {
   "cell_type": "markdown",
   "metadata": {},
   "source": [
    "### Part II"
   ]
  },
  {
   "cell_type": "code",
   "execution_count": 23,
   "metadata": {
    "collapsed": true
   },
   "outputs": [],
   "source": [
    "dessert = dessert.withColumn('num_of_guests_cat', \n",
    "                             dessert.num_of_guests.astype('string'))\\\n",
    "                .drop('num_of_guests')\\\n",
    "                .drop('features')\\\n",
    "                .drop('prediction')\\\n",
    "                .drop('rawPrediction')\\\n",
    "                .drop('probability')\n",
    "si = StringIndexer(inputCol='num_of_guests_cat',\n",
    "                   outputCol='num_of_guests_cat_ix')\n",
    "dessert = si.fit(dessert).transform(dessert)\n",
    "va = VectorAssembler(inputCols=['weekday_ohe', 'hour_ohe', 'num_of_guests_cat_ix'], \n",
    "                     outputCol='features')\n",
    "dessert = va.transform(dessert)\n",
    "dessert.show(5)"
   ]
  },
  {
   "cell_type": "code",
   "execution_count": 24,
   "metadata": {
    "collapsed": true
   },
   "outputs": [],
   "source": [
    "dt = DecisionTreeClassifier(featuresCol='features',\n",
    "                            labelCol='purchase (Index)',\n",
    "                            maxDepth=5)\n",
    "dt_model = dt.fit(dessert)\n",
    "dessert = dt_model.transform(dessert)\n",
    "dessert.show(5)"
   ]
  },
  {
   "cell_type": "code",
   "execution_count": 25,
   "metadata": {
    "collapsed": true
   },
   "outputs": [],
   "source": [
    "print MulticlassClassificationEvaluator(predictionCol=\"prediction\",\n",
    "                                        labelCol=\"purchase (Index)\",\n",
    "                                        metricName=\"accuracy\")\\\n",
    "        .evaluate(dessert)"
   ]
  }
 ],
 "metadata": {
  "kernelspec": {
   "display_name": "Python [default]",
   "language": "python",
   "name": "python2"
  },
  "language_info": {
   "codemirror_mode": {
    "name": "ipython",
    "version": 2
   },
   "file_extension": ".py",
   "mimetype": "text/x-python",
   "name": "python",
   "nbconvert_exporter": "python",
   "pygments_lexer": "ipython2",
   "version": "2.7.11"
  },
  "name": "Decision trees with PySpark - solutions",
  "notebookId": 3948141445358119
 },
 "nbformat": 4,
 "nbformat_minor": 0
}
