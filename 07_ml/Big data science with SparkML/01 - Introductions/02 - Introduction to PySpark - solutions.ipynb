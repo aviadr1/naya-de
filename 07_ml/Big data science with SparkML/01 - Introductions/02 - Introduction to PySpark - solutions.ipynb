{
 "cells": [
  {
   "cell_type": "markdown",
   "metadata": {},
   "source": [
    "# Introduction to PySpark - solutions"
   ]
  },
  {
   "cell_type": "markdown",
   "metadata": {},
   "source": [
    "## Your turn 1"
   ]
  },
  {
   "cell_type": "code",
   "execution_count": 2,
   "metadata": {
    "collapsed": true
   },
   "outputs": [],
   "source": [
    "words = sc\\\n",
    "    .textFile(\"/FileStore/tables/iwb7xc3o1490280483300/english_words-122b4.txt\")"
   ]
  },
  {
   "cell_type": "markdown",
   "metadata": {},
   "source": [
    "### Question 1"
   ]
  },
  {
   "cell_type": "code",
   "execution_count": 4,
   "metadata": {
    "collapsed": true
   },
   "outputs": [],
   "source": [
    "print words.count()"
   ]
  },
  {
   "cell_type": "markdown",
   "metadata": {},
   "source": [
    "### Question 2"
   ]
  },
  {
   "cell_type": "code",
   "execution_count": 6,
   "metadata": {
    "collapsed": true
   },
   "outputs": [],
   "source": [
    "first_letter_count = words\\\n",
    "  .groupBy(lambda word: word[0])\\\n",
    "  .mapValues(lambda iter: len(iter))\\\n",
    "  .sortBy(lambda pair: pair[1], ascending=False)\n",
    "print first_letter_count.take(5)"
   ]
  },
  {
   "cell_type": "markdown",
   "metadata": {},
   "source": [
    "### Question 3"
   ]
  },
  {
   "cell_type": "code",
   "execution_count": 8,
   "metadata": {
    "collapsed": true
   },
   "outputs": [],
   "source": [
    "letter_count = words\\\n",
    "  .map(lambda word: (len(word), word))\\\n",
    "  .sortByKey(ascending=False)\n",
    "print letter_count.take(1)"
   ]
  },
  {
   "cell_type": "markdown",
   "metadata": {},
   "source": [
    "### Question 4"
   ]
  },
  {
   "cell_type": "code",
   "execution_count": 10,
   "metadata": {
    "collapsed": true
   },
   "outputs": [],
   "source": [
    "def contains_all_vowels(word):\n",
    "  w = word.lower()\n",
    "  return ('a' in w) and ('e' in w) and ('i' in w) and ('o' in w) and ('u' in w)\n",
    "\n",
    "all_vowels = words\\\n",
    "  .filter(lambda word: contains_all_vowels(word))\n",
    "print all_vowels.count()"
   ]
  },
  {
   "cell_type": "markdown",
   "metadata": {},
   "source": [
    "## Your turn 2"
   ]
  },
  {
   "cell_type": "code",
   "execution_count": 12,
   "metadata": {
    "collapsed": true
   },
   "outputs": [],
   "source": [
    "weights = spark.read.csv(\"/FileStore/tables/uqtcrbj01489758785704/weight.txt\", \n",
    "                         header=True, inferSchema=True)\n",
    "weights.show(5)"
   ]
  },
  {
   "cell_type": "markdown",
   "metadata": {},
   "source": [
    "### Question 1"
   ]
  },
  {
   "cell_type": "code",
   "execution_count": 14,
   "metadata": {
    "collapsed": true
   },
   "outputs": [],
   "source": [
    "males = weights.where(\"Sex = 'm'\")\n",
    "males.show(5)"
   ]
  },
  {
   "cell_type": "markdown",
   "metadata": {},
   "source": [
    "### Question 2"
   ]
  },
  {
   "cell_type": "code",
   "execution_count": 16,
   "metadata": {
    "collapsed": true
   },
   "outputs": [],
   "source": [
    "print males.count()\n",
    "males.agg({'Height': 'mean', 'Weight': 'mean'}).show()"
   ]
  },
  {
   "cell_type": "markdown",
   "metadata": {},
   "source": [
    "### Question 3"
   ]
  },
  {
   "cell_type": "code",
   "execution_count": 18,
   "metadata": {
    "collapsed": true
   },
   "outputs": [],
   "source": [
    "print weights\\\n",
    "    .where((weights.Sex == 'f') & (weights.Age > 40))\\\n",
    "    .sort('Height', ascending=False)\\\n",
    "    .first()"
   ]
  },
  {
   "cell_type": "markdown",
   "metadata": {},
   "source": [
    "### Question 4"
   ]
  },
  {
   "cell_type": "code",
   "execution_count": 20,
   "metadata": {
    "collapsed": true
   },
   "outputs": [],
   "source": [
    "weights.groupBy('Age').agg({'Weight': 'mean'}).show(5)"
   ]
  }
 ],
 "metadata": {
  "anaconda-cloud": {},
  "kernelspec": {
   "display_name": "Python [default]",
   "language": "python",
   "name": "python2"
  },
  "language_info": {
   "codemirror_mode": {
    "name": "ipython",
    "version": 2
   },
   "file_extension": ".py",
   "mimetype": "text/x-python",
   "name": "python",
   "nbconvert_exporter": "python",
   "pygments_lexer": "ipython2",
   "version": "2.7.11"
  },
  "name": "Introduction to PySpark - solutions",
  "notebookId": 2317684797154332
 },
 "nbformat": 4,
 "nbformat_minor": 0
}
