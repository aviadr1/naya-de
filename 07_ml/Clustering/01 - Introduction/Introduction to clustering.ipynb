{
 "cells": [
  {
   "cell_type": "markdown",
   "metadata": {},
   "source": [
    "# Introduction"
   ]
  },
  {
   "cell_type": "markdown",
   "metadata": {},
   "source": [
    "[Clustering][1] is the task of grouping a set of objects in such a way that objects in the same group (**cluster**) are more \"similar\" to each other than to those in other groups. This type of problem is inherently different from the ones we've met (regression and classification) as it is a **unsupervised**, which means it has no \"ground truth\". Clustering algorithms are available in the [_sklearn.cluster_][2] module.\n",
    "\n",
    "In contrast to classification problems, in clustering probelms there is no prior knowledge concerning the characteristics of the clusters. The result of any clustering algorithm is not a list of \"labels\", but rather a list of integers, which have no meaning attached to them. Thus, it is often part of the problem to realize the number of clusters, their sizes, their relationships, and above all - their business interpretation.\n",
    "\n",
    "[1]: https://en.wikipedia.org/wiki/Cluster_analysis \"Clustering - Wikipedia\"\n",
    "[2]: http://scikit-learn.org/stable/modules/classes.html#module-sklearn.cluster \"Clustering algorithms\""
   ]
  },
  {
   "cell_type": "markdown",
   "metadata": {},
   "source": [
    "# Clustering approaches"
   ]
  },
  {
   "cell_type": "markdown",
   "metadata": {},
   "source": [
    "Conceptually, there are several types of clustering concepts, corresponding to different **assumptions** about the distribution of the data. These are the main three:\n",
    "\n",
    "* **Centroid based** - when data points belonging to the same cluster lie close to some \"center\". For this approach we will learn the **k-means** algorithm.\n",
    "* **Connectivity based** - when data points belonging to the same cluster are close one to the other, but not necessarily share a centralized region. For this approach we will learn the **agglomerative (hierarchical) clustering** algorithm.\n",
    "* **Distribution based** - when data points belonging to the same cluster lie within some spatial distribution. We will not cover this type in our course, but its well-known representative is DBSCAN."
   ]
  }
 ],
 "metadata": {
  "anaconda-cloud": {},
  "kernelspec": {
   "display_name": "Python 3",
   "language": "python",
   "name": "python3"
  },
  "language_info": {
   "codemirror_mode": {
    "name": "ipython",
    "version": 3
   },
   "file_extension": ".py",
   "mimetype": "text/x-python",
   "name": "python",
   "nbconvert_exporter": "python",
   "pygments_lexer": "ipython3",
   "version": "3.7.1"
  }
 },
 "nbformat": 4,
 "nbformat_minor": 2
}
